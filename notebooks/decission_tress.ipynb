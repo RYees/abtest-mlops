{
 "cells": [
  {
   "cell_type": "markdown",
   "metadata": {},
   "source": [
    "Autoreload notebook"
   ]
  },
  {
   "cell_type": "code",
   "execution_count": 4,
   "metadata": {},
   "outputs": [
    {
     "name": "stdout",
     "output_type": "stream",
     "text": [
      "The autoreload extension is already loaded. To reload it, use:\n",
      "  %reload_ext autoreload\n"
     ]
    }
   ],
   "source": [
    "%load_ext autoreload\n",
    "%autoreload 2\n"
   ]
  },
  {
   "cell_type": "code",
   "execution_count": 5,
   "metadata": {},
   "outputs": [],
   "source": [
    "import os\n",
    "import warnings\n",
    "import sys\n",
    "\n",
    "import dvc.api\n",
    "import pandas as pd\n",
    "import numpy as np\n",
    "from sklearn.metrics import mean_squared_error, mean_absolute_error, r2_score\n",
    "from sklearn.model_selection import train_test_split\n",
    "from sklearn.linear_model import ElasticNet, LogisticRegression\n",
    "from sklearn.preprocessing import LabelEncoder\n",
    "from fast_ml.model_development import train_valid_test_split\n",
    "from urllib.parse import urlparse\n",
    "import mlflow\n",
    "import mlflow.sklearn\n",
    "import logging"
   ]
  },
  {
   "cell_type": "markdown",
   "metadata": {},
   "source": [
    ">> #### Import modules"
   ]
  },
  {
   "cell_type": "code",
   "execution_count": 7,
   "metadata": {},
   "outputs": [],
   "source": [
    "sys.path.append(os.path.abspath(os.path.join('../scripts')))\n",
    "from ml import Ml\n",
    "from preprocess import Preprocess"
   ]
  },
  {
   "cell_type": "markdown",
   "metadata": {},
   "source": [
    "Instantiate preprocessing & ml class"
   ]
  },
  {
   "cell_type": "code",
   "execution_count": 8,
   "metadata": {},
   "outputs": [],
   "source": [
    "ml = Ml()\n",
    "preprocess = Preprocess()"
   ]
  },
  {
   "cell_type": "code",
   "execution_count": 42,
   "metadata": {},
   "outputs": [],
   "source": [
    "# Gets or creates a logger\n",
    "logger = logging.getLogger(__name__)\n",
    "# set log level\n",
    "logger.setLevel(logging.INFO)\n",
    "file_handler = logging.FileHandler(f'../logs/decission_trees.log')\n",
    "formatter = logging.Formatter(\n",
    "    '%(asctime)s : %(levelname)s : %(name)s : %(message)s', '%m-%d-%Y %H:%M:%S')\n",
    "file_handler.setFormatter(formatter)\n",
    "logger.addHandler(file_handler)"
   ]
  },
  {
   "cell_type": "code",
   "execution_count": 10,
   "metadata": {},
   "outputs": [],
   "source": [
    "# Get URL from DVC\n",
    "path = 'data/AdSmartABdata.csv'\n",
    "repo = 'https://github.com/jedisam/abtest-mlops'\n",
    "version = '6db449393c9626c4fbca44946dfa103660685a27'"
   ]
  },
  {
   "cell_type": "code",
   "execution_count": 11,
   "metadata": {},
   "outputs": [],
   "source": [
    "# Load data from dvc using the dvc.api.Dataset class\n",
    "data_url = dvc.api.get_url(\n",
    "    path=path,\n",
    "    repo=repo,\n",
    "    rev=version\n",
    ")"
   ]
  },
  {
   "cell_type": "code",
   "execution_count": 21,
   "metadata": {},
   "outputs": [],
   "source": [
    "# Read CSV file from remote repository\n",
    "data = pd.read_csv(data_url, sep=',')"
   ]
  },
  {
   "cell_type": "markdown",
   "metadata": {},
   "source": [
    "Convert date column to datetime"
   ]
  },
  {
   "cell_type": "code",
   "execution_count": 24,
   "metadata": {},
   "outputs": [],
   "source": [
    "# change the date column to datetime\n",
    "data = preprocess.convert_to_datetime(data, 'date')"
   ]
  },
  {
   "cell_type": "markdown",
   "metadata": {},
   "source": [
    "Get numerical & categorical features"
   ]
  },
  {
   "cell_type": "code",
   "execution_count": 29,
   "metadata": {},
   "outputs": [],
   "source": [
    "numerical_column = preprocess.get_numerical_columns(data)\n",
    "categorical_column = preprocess.get_categorical_columns(data)"
   ]
  },
  {
   "cell_type": "markdown",
   "metadata": {},
   "source": [
    "Remove the id column"
   ]
  },
  {
   "cell_type": "code",
   "execution_count": 30,
   "metadata": {},
   "outputs": [],
   "source": [
    "# drop auction_id from categorical_column\n",
    "categorical_column.remove('auction_id')"
   ]
  },
  {
   "cell_type": "code",
   "execution_count": 31,
   "metadata": {},
   "outputs": [],
   "source": [
    "# Get column names have less than 10 more than 2 unique values\n",
    "to_one_hot_encoding = [col for col in categorical_column if data[col].nunique() <= 10 and data[col].nunique() > 2]\n",
    "\n",
    "# Get Categorical Column names thoose are not in \"to_one_hot_encoding\"\n",
    "to_label_encoding = [col for col in categorical_column if not col in to_one_hot_encoding]"
   ]
  },
  {
   "cell_type": "markdown",
   "metadata": {},
   "source": [
    "Encode categorical features"
   ]
  },
  {
   "cell_type": "code",
   "execution_count": 34,
   "metadata": {},
   "outputs": [],
   "source": [
    "# Label encoding\n",
    "label_encoded_columns = preprocess.label_encode(data, to_label_encoding)"
   ]
  },
  {
   "cell_type": "markdown",
   "metadata": {},
   "source": [
    "Select relevant rows"
   ]
  },
  {
   "cell_type": "code",
   "execution_count": 36,
   "metadata": {},
   "outputs": [],
   "source": [
    "# Copy our DataFrame to X variable\n",
    "X = data.copy()\n",
    "\n",
    "# Droping Categorical Columns,\n",
    "# \"inplace\" means replace our data with new one\n",
    "# Don't forget to \"axis=1\"\n",
    "X.drop(categorical_column, axis=1, inplace=True)\n",
    "\n",
    "# Merge DataFrames\n",
    "X = pd.concat([X, label_encoded_columns], axis=1)"
   ]
  },
  {
   "cell_type": "code",
   "execution_count": 38,
   "metadata": {},
   "outputs": [],
   "source": [
    "# Select only rows with responses\n",
    "X = X.query('yes == 1 | no == 1')"
   ]
  },
  {
   "cell_type": "code",
   "execution_count": 39,
   "metadata": {},
   "outputs": [],
   "source": [
    "# Drop auction_id column\n",
    "X.drop([\"auction_id\"], axis=1, inplace=True)"
   ]
  },
  {
   "cell_type": "code",
   "execution_count": 40,
   "metadata": {},
   "outputs": [],
   "source": [
    "# add 1 to yes and 0 to no\n",
    "X['yes'] = X['yes'].replace(1, 2)"
   ]
  },
  {
   "cell_type": "code",
   "execution_count": null,
   "metadata": {},
   "outputs": [],
   "source": []
  }
 ],
 "metadata": {
  "interpreter": {
   "hash": "75f376effe886d8b51843b632a4b92665fc33b9300797299f553ce70034dd324"
  },
  "kernelspec": {
   "display_name": "Python 3.9.7 ('base')",
   "language": "python",
   "name": "python3"
  },
  "language_info": {
   "codemirror_mode": {
    "name": "ipython",
    "version": 3
   },
   "file_extension": ".py",
   "mimetype": "text/x-python",
   "name": "python",
   "nbconvert_exporter": "python",
   "pygments_lexer": "ipython3",
   "version": "3.9.7"
  },
  "orig_nbformat": 4
 },
 "nbformat": 4,
 "nbformat_minor": 2
}
