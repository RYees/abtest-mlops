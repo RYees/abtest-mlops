{
 "cells": [
  {
   "cell_type": "code",
   "execution_count": 1,
   "metadata": {},
   "outputs": [],
   "source": [
    "%load_ext autoreload\n",
    "%autoreload 2\n"
   ]
  },
  {
   "cell_type": "markdown",
   "metadata": {},
   "source": [
    ">> Import Libraries"
   ]
  },
  {
   "cell_type": "code",
   "execution_count": 124,
   "metadata": {},
   "outputs": [],
   "source": [
    "import numpy as np\n",
    "import pandas as pd\n",
    "import matplotlib.pyplot as plt\n",
    "import os, sys\n",
    "import datetime\n",
    "import seaborn as sns\n",
    "import scipy.stats as stats\n",
    "from scipy.stats import chi2_contingency, beta, binom\n",
    "from statsmodels.stats.proportion import proportions_ztest\n",
    "from matplotlib.lines import Line2D\n",
    "import plotly.graph_objs as go\n"
   ]
  },
  {
   "cell_type": "markdown",
   "metadata": {},
   "source": [
    ">> Import required modules"
   ]
  },
  {
   "cell_type": "code",
   "execution_count": 3,
   "metadata": {},
   "outputs": [],
   "source": [
    "sys.path.append(os.path.abspath(os.path.join('../scripts')))\n",
    "from plot import Plot"
   ]
  },
  {
   "cell_type": "markdown",
   "metadata": {},
   "source": [
    ">> Initialize plot class"
   ]
  },
  {
   "cell_type": "code",
   "execution_count": 4,
   "metadata": {},
   "outputs": [],
   "source": [
    "pl = Plot()"
   ]
  },
  {
   "cell_type": "markdown",
   "metadata": {},
   "source": [
    ">> Ignoring warnings"
   ]
  },
  {
   "cell_type": "code",
   "execution_count": 5,
   "metadata": {},
   "outputs": [],
   "source": [
    "import warnings\n",
    "warnings.filterwarnings('ignore')\n"
   ]
  },
  {
   "cell_type": "markdown",
   "metadata": {},
   "source": [
    ">> Load the data"
   ]
  },
  {
   "cell_type": "code",
   "execution_count": 62,
   "metadata": {},
   "outputs": [],
   "source": [
    "dff = pd.read_csv('../data/AdSmartABdata.csv')"
   ]
  },
  {
   "cell_type": "markdown",
   "metadata": {},
   "source": [
    ">> #### Classical approach of AB Testing"
   ]
  },
  {
   "cell_type": "markdown",
   "metadata": {},
   "source": [
    ">> Question: Does the Smart add (experiment = 1) show an improvement in user engagement (response rate)\n",
    "\n",
    "    Null Hypothesis:\n",
    "                    H0: there is no difference in brand awareness between the exposed and control groups\n",
    "           \n",
    "\n",
    "    Alt Hypothesis:  H1: there is a difference in brand awareness between the exposed and control groups\n",
    "\n",
    "\n",
    "Method: Binomial test\n",
    "\n",
    "Threshold or significance level: 0.05"
   ]
  },
  {
   "cell_type": "code",
   "execution_count": 108,
   "metadata": {},
   "outputs": [
    {
     "name": "stdout",
     "output_type": "stream",
     "text": [
      "The exposed group dataframe has 657 observations\n",
      "The control group dataframe has 586 observations\n",
      "The conversion rate in the exposed group is equal to 46.88%\n",
      "The conversion rate in the exposed group is equal to 45.05%\n"
     ]
    }
   ],
   "source": [
    "# Filter out users that were not interacting\n",
    "relevant_rows = dff.query('yes == 1 | no == 1')\n",
    "\n",
    "# Divide a dataframe by exposed and control group\n",
    "exposed = relevant_rows.query('experiment == \"exposed\"')\n",
    "control = relevant_rows.query('experiment == \"control\"')\n",
    "\n",
    "# Calculate a number of observation in both groups\n",
    "print('The exposed group dataframe has {} observations'. format(exposed.shape[0]))\n",
    "print('The control group dataframe has {} observations'. format(control.shape[0]))\n",
    "\n",
    "exposed_mean = '{0:.2f}%'.format(exposed.yes.mean()*100)\n",
    "control_mean = '{0:.2f}%'.format(control.yes.mean()*100)\n",
    "print('The conversion rate in the exposed group is equal to {}'.format(exposed_mean))\n",
    "print('The conversion rate in the exposed group is equal to {}'.format(control_mean))\n"
   ]
  },
  {
   "cell_type": "code",
   "execution_count": 109,
   "metadata": {},
   "outputs": [
    {
     "name": "stdout",
     "output_type": "stream",
     "text": [
      "The observed difference in the conversion rate between the exposed and the control group is 1.83%\n"
     ]
    }
   ],
   "source": [
    "obs_diff = exposed.yes.mean() - control.yes.mean()\n",
    "obs_diff_form = '{0:.2f}%'.format(obs_diff*100)\n",
    "print('The observed difference in the conversion rate between the exposed and the control group is {}'.format(obs_diff_form))"
   ]
  },
  {
   "cell_type": "code",
   "execution_count": 110,
   "metadata": {},
   "outputs": [
    {
     "name": "stdout",
     "output_type": "stream",
     "text": [
      "The sample sizes of the exposed group and control group are 657 and 586 respectively\n",
      "The number of conversions in the exposed group and control group is 308 and 264 respectively\n"
     ]
    }
   ],
   "source": [
    "exposed_converted = exposed.query('yes == 1')\n",
    "control_converted = control.query('yes == 1')\n",
    "print('The sample sizes of the exposed group and control group are {} and {} respectively'.format(exposed.shape[0], control.shape[0]))\n",
    "print('The number of conversions in the exposed group and control group is {} and {} respectively'.format(exposed_converted.shape[0],\n",
    "                                                                                          control_converted.shape[0]))"
   ]
  },
  {
   "cell_type": "code",
   "execution_count": 112,
   "metadata": {},
   "outputs": [
    {
     "name": "stdout",
     "output_type": "stream",
     "text": [
      "P-value is equal to 25.92%\n"
     ]
    }
   ],
   "source": [
    "#storing number of conversions for exposed and control groups as numpy arrays\n",
    "count = np.array([exposed_converted.shape[0], control_converted.shape[0]])\n",
    "#storing sample sizes of exposed and control group as numpy arrays\n",
    "nobs = np.array([exposed.shape[0], control.shape[0]])\n",
    "#storing results of z test in variables\n",
    "stat, p_val = proportions_ztest(count, nobs, alternative = 'larger')\n",
    "p_form = '{0:.2f}%'.format(p_val*100)\n",
    "print('P-value is equal to {}'.format(p_form))"
   ]
  },
  {
   "cell_type": "code",
   "execution_count": 114,
   "metadata": {},
   "outputs": [],
   "source": [
    "# Draw 100000 samples from binominal distribution\n",
    "exposed_simulation = np.random.binomial(exposed.shape[0], exposed.yes.mean(), 100000)/exposed.shape[0]\n",
    "control_simulation = np.random.binomial(control.shape[0], control.yes.mean(), 100000)/control.shape[0]\n",
    "p_diffs = exposed_simulation - control_simulation\n",
    "diffs = np.array(p_diffs)\n",
    "\n",
    "#Creation of normal distribution centered at zero\n",
    "null_vals = np.random.normal(0, np.std(diffs), len(diffs))"
   ]
  },
  {
   "cell_type": "code",
   "execution_count": 115,
   "metadata": {},
   "outputs": [],
   "source": [
    "def statplot(data, lim, obs_stat, title):\n",
    "    \"\"\"\n",
    "    This function creates a plot, that represents sampling distribution. \n",
    "    This plot is formatted and has main statistics on it\n",
    "    Arguments:\n",
    "    data = array\n",
    "    lim = height of the plot\n",
    "    obs_stat = observed statistic\n",
    "    title = chart title\n",
    "    \"\"\"\n",
    "    \n",
    "    #Create a kdeplot\n",
    "    plt.figure(figsize=(12,4), tight_layout=True)\n",
    "    ax = sns.kdeplot(data, linewidth = 0.8, color = 'black')\n",
    "    \n",
    "    # Simple formatting\n",
    "    frame = ['right', 'left', 'top']\n",
    "    for i in frame:\n",
    "        ax.spines[i].set_visible(False)\n",
    "\n",
    "    plt.title(title)\n",
    "    plt.ylabel('')\n",
    "    plt.yticks([], [])\n",
    "    \n",
    "    # Legend\n",
    "    line = Line2D([0], [0], color='red', linestyle = '-', label='observed statistic')\n",
    "    line_dashed = Line2D([0], [0], color='black', linestyle = '--', label='mean and standard deviation')\n",
    "    plt.legend(handles=[line, line_dashed], loc='upper left');\n",
    "    \n",
    "    # Create a list of 3 standard deviation to the left and to the right and mean\n",
    "    std_list = []\n",
    "    std_list_format = []\n",
    "    for i in range(-3,4):\n",
    "        std_dev = np.std(data) * i + np.mean(data)\n",
    "        std_list.append(std_dev)\n",
    "        std_list_format.append('{0:.3f}'.format(std_dev) + '\\n {} std'.format(i))\n",
    "        \n",
    "    # Create a list of corresponding y values\n",
    "    data_x, data_y = ax.lines[0].get_data()\n",
    "    height = []\n",
    "    for i in std_list:\n",
    "        height.append(np.interp(i, data_x, data_y))\n",
    "        \n",
    "    # Plotting vertical lines representing std deviations \n",
    "    for a, b in zip(std_list, height):\n",
    "        plt.axvline(a, 0, b/lim, color = 'black', alpha = 1, linewidth = 0.8, linestyle = '--')\n",
    "        plt.plot(a, b, marker = 'o', color = 'blue')\n",
    "    \n",
    "    # Plotting observed statistic\n",
    "    obs_line_height = np.interp(obs_stat, data_x, data_y)\n",
    "    plt.axvline(obs_stat, 0, obs_line_height/lim, color = 'red', alpha = 1, linewidth = 0.8, linestyle = '-')\n",
    "    plt.plot(obs_stat, obs_line_height, marker = 'o', color = 'red')\n",
    "            \n",
    "    # Plotting x ticks\n",
    "    x_ticks = std_list\n",
    "    x_labels = std_list_format\n",
    "    plt.xticks(x_ticks, x_labels)\n",
    "    plt.ylim(0,lim)"
   ]
  },
  {
   "cell_type": "code",
   "execution_count": 116,
   "metadata": {},
   "outputs": [],
   "source": [
    "def shading(data, left, right, color):\n",
    "    \n",
    "    \"\"\"\n",
    "    This function shades areas of the kde plot.\n",
    "    Arguments:\n",
    "    data = array\n",
    "    left = left boundary of the area to be shaded\n",
    "    right = right boundary of the area to be shaded\n",
    "    color = color\n",
    "    \"\"\"\n",
    "    \n",
    "    #Shading areas\n",
    "    kde = stats.gaussian_kde(data)\n",
    "    shade = np.linspace(left, right, 100)\n",
    "    plt.fill_between(shade, kde(shade), color = color, alpha = 0.5);"
   ]
  },
  {
   "cell_type": "code",
   "execution_count": 125,
   "metadata": {},
   "outputs": [
    {
     "data": {
      "image/png": "[encoded data removed]",
      "text/plain": [
       "<Figure size 864x288 with 1 Axes>"
      ]
     },
     "metadata": {
      "needs_background": "light"
     },
     "output_type": "display_data"
    }
   ],
   "source": [
    "# Plotting the sampling distribution\n",
    "statplot(null_vals, 15, obs_diff, 'Sampling Distribution of the difference in sample proportions under the null hypothesis')\n",
    "shading(null_vals, obs_diff, null_vals.max(),'#aaffb5')\n",
    "shading(null_vals, null_vals.min(), obs_diff,'#cceefb')\n",
    "plt.text(0.075, 12, \"P-value = {}\".format(p_form), color = 'black', size = 15);"
   ]
  },
  {
   "cell_type": "markdown",
   "metadata": {},
   "source": [
    "The probability that the observed difference falls into the sampling distribution of the null hypothesis is equal to 25.92% (0.25). Given that our level of significance is 5% (0.05), we fail to reject the null hypothesis, ie we do not have enough evidence to conclude that the conversion rate with the new creative ad is higher than with the dummy one."
   ]
  },
  {
   "cell_type": "code",
   "execution_count": 126,
   "metadata": {},
   "outputs": [
    {
     "name": "stdout",
     "output_type": "stream",
     "text": [
      "The 90% confidence interval falls between -0.02828080835958243 and 0.06485204695055077.\n"
     ]
    }
   ],
   "source": [
    "# Calculate z statistic\n",
    "zscore = stats.norm.ppf(1 - .05)\n",
    "\n",
    "# Calculate mean proportion for exposed group\n",
    "p1 = exposed.yes.mean()\n",
    "# Calculate mean proportion for control group\n",
    "p2 = control.yes.mean()\n",
    "# Calculate distance from the mean\n",
    "distance_from_mean = ((p1*(1-p1)/exposed.yes.shape[0]) + (p2*(1-p2)/control.yes.shape[0])) ** 0.5 * zscore\n",
    "\n",
    "# Lower boarder of the interval\n",
    "low = obs_diff - distance_from_mean\n",
    "# Higher boarder of the interval\n",
    "high = obs_diff + distance_from_mean\n",
    "\n",
    "print('The 90% confidence interval falls between {} and {}.'.format(low, high))"
   ]
  },
  {
   "cell_type": "code",
   "execution_count": 127,
   "metadata": {},
   "outputs": [
    {
     "data": {
      "image/png": "[encoded data removed]",
      "text/plain": [
       "<Figure size 864x288 with 1 Axes>"
      ]
     },
     "metadata": {
      "needs_background": "light"
     },
     "output_type": "display_data"
    }
   ],
   "source": [
    "# Plotting the confidence interval\n",
    "statplot(diffs, 15, np.mean(null_vals), '90% confidence interval')\n",
    "shading(diffs, diffs.min(), low, '#aaffb5')\n",
    "shading(diffs, low, high, '#cceefb')\n",
    "shading(diffs, high, diffs.max(), '#aaffb5')"
   ]
  },
  {
   "cell_type": "markdown",
   "metadata": {},
   "source": [
    "The null hypothesis is within the confidence interval, as can be shown. We can anticipate 90% of confidence intervals overlapping with zero. Our true proportional difference is zero under the null hypothesis. As a result, the P-value is greater than the 10% significance limit. (It would be 5% for the one-tailed test). As a result, I lack sufficient evidence to reject the null hypothesis and propose the alternative hypothesis."
   ]
  },
  {
   "cell_type": "code",
   "execution_count": null,
   "metadata": {},
   "outputs": [],
   "source": []
  },
  {
   "cell_type": "code",
   "execution_count": 100,
   "metadata": {},
   "outputs": [
    {
     "name": "stdout",
     "output_type": "stream",
     "text": [
      "control conversion percentage: 6.48%\n",
      "Treatment conversion percentage: 7.69%\n",
      "Lift percentage: 18.56%\n"
     ]
    }
   ],
   "source": [
    "# Experiment 1:\n",
    "\n",
    "control_conversion = dff[(dff['experiment'] == 'control') & (dff['yes'] == 1)].shape[0] / dff[(dff['experiment'] == 'control')].shape[0]\n",
    "treatment_conversion = dff[(dff['experiment'] == 'exposed') & (dff['yes'] == 1)].shape[0] / dff[(dff['experiment'] == 'exposed')].shape[0]\n",
    "lift = (treatment_conversion - control_conversion) / control_conversion\n",
    "\n",
    "\n",
    "print(f\"control conversion percentage: {round(control_conversion * 100, 2)}%\")\n",
    "print(f\"Treatment conversion percentage: {round(treatment_conversion * 100, 2)}%\")\n",
    "print(f\"Lift percentage: {round(lift * 100, 2)}%\")"
   ]
  },
  {
   "cell_type": "code",
   "execution_count": 101,
   "metadata": {},
   "outputs": [],
   "source": [
    "# Create Contngency Table for chi square test\n",
    "control_converted = dff[(dff['experiment'] == 'control') & (dff['yes'] == 1)].shape[0]\n",
    "treatment_converted = dff[(dff['experiment'] == 'exposed') & (dff['yes'] == 1)].shape[0]\n",
    "control_non_converted = dff[(dff['experiment'] == 'control') & (dff['no'] == 1)].shape[0]\n",
    "treatment_not_converted = dff[(dff['experiment'] == 'exposed') & (dff['no'] == 1)].shape[0]\n",
    "\n",
    "contingency_table = np.array([[control_converted, control_non_converted], [treatment_converted,         treatment_not_converted]])"
   ]
  },
  {
   "cell_type": "code",
   "execution_count": 102,
   "metadata": {},
   "outputs": [
    {
     "data": {
      "text/plain": [
       "array([[264, 322],\n",
       "       [308, 349]])"
      ]
     },
     "execution_count": 102,
     "metadata": {},
     "output_type": "execute_result"
    }
   ],
   "source": [
    "contingency_table"
   ]
  },
  {
   "cell_type": "code",
   "execution_count": 103,
   "metadata": {},
   "outputs": [],
   "source": [
    "chi, p_value, _, _ = chi2_contingency(contingency_table, correction=False)"
   ]
  },
  {
   "cell_type": "code",
   "execution_count": 104,
   "metadata": {},
   "outputs": [
    {
     "data": {
      "text/plain": [
       "(0.41690289642162887, 0.518486498219898)"
      ]
     },
     "execution_count": 104,
     "metadata": {},
     "output_type": "execute_result"
    }
   ],
   "source": [
    "chi, p_value"
   ]
  },
  {
   "cell_type": "markdown",
   "metadata": {},
   "source": [
    "Since the p_value > 0.05, we cannot reject null hypothesis. Hence, we cannot conclude if there exists a relationship between the control and treatment groups."
   ]
  },
  {
   "cell_type": "code",
   "execution_count": 106,
   "metadata": {},
   "outputs": [
    {
     "name": "stdout",
     "output_type": "stream",
     "text": [
      "51.85% probability that a more extreme chi square than 0.417 would have occured by chance\n"
     ]
    }
   ],
   "source": [
    "print(f\"{round(p_value * 100, 2)}% probability that a more extreme chi square than {round(chi, 3)} would have occured by chance\")\n"
   ]
  },
  {
   "cell_type": "code",
   "execution_count": null,
   "metadata": {},
   "outputs": [],
   "source": []
  },
  {
   "cell_type": "code",
   "execution_count": null,
   "metadata": {},
   "outputs": [],
   "source": []
  }
 ],
 "metadata": {
  "interpreter": {
   "hash": "75f376effe886d8b51843b632a4b92665fc33b9300797299f553ce70034dd324"
  },
  "kernelspec": {
   "display_name": "Python 3.9.7 ('base')",
   "language": "python",
   "name": "python3"
  },
  "language_info": {
   "codemirror_mode": {
    "name": "ipython",
    "version": 3
   },
   "file_extension": ".py",
   "mimetype": "text/x-python",
   "name": "python",
   "nbconvert_exporter": "python",
   "pygments_lexer": "ipython3",
   "version": "3.9.7"
  },
  "orig_nbformat": 4
 },
 "nbformat": 4,
 "nbformat_minor": 2
}
